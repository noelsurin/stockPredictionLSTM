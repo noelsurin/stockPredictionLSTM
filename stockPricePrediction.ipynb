{
  "nbformat": 4,
  "nbformat_minor": 0,
  "metadata": {
    "colab": {
      "name": "stockPricePrediction.ipynb",
      "provenance": [],
      "collapsed_sections": []
    },
    "kernelspec": {
      "display_name": "Python 3",
      "name": "python3"
    }
  },
  "cells": [
    {
      "cell_type": "code",
      "metadata": {
        "id": "eip2CM6dRmm_"
      },
      "source": [
        "#This Program uses an artificial recurrent neural network called Long Short Term Memory (LSTM) \n",
        "#to predict the closing stock price of a corporation with the help of their stock market code \n",
        "#using the past 60 day stock price.\n",
        "\n",
        "#2K19/CO/265 Noel Vaibhav Surin\n",
        "#2K19/CO/246 Neha Singh "
      ],
      "execution_count": null,
      "outputs": []
    },
    {
      "cell_type": "code",
      "metadata": {
        "id": "Bt5B8QxS0Jde"
      },
      "source": [
        "#Import the libraries\n",
        "import math\n",
        "import pandas_datareader as web\n",
        "import numpy as np\n",
        "import pandas as pd\n",
        "from sklearn.preprocessing import MinMaxScaler\n",
        "from keras.models import Sequential\n",
        "from keras.layers import Dense, LSTM\n",
        "import matplotlib.pyplot as plt\n",
        "plt.style.use('dark_background')\n"
      ],
      "execution_count": null,
      "outputs": []
    },
    {
      "cell_type": "code",
      "metadata": {
        "id": "yff3PFgiTCCp",
        "outputId": "df94818b-fbac-4883-8233-5c71445045ee",
        "colab": {
          "base_uri": "https://localhost:8080/",
          "height": 436
        }
      },
      "source": [
        "#Get the Stock quote/\n",
        "\n",
        "df = web.DataReader('AAPL', data_source = 'yahoo', start='2019-01-01', end = '2020-11-5')\n",
        "#show the data\n",
        "df"
      ],
      "execution_count": null,
      "outputs": [
        {
          "output_type": "execute_result",
          "data": {
            "text/html": [
              "<div>\n",
              "<style scoped>\n",
              "    .dataframe tbody tr th:only-of-type {\n",
              "        vertical-align: middle;\n",
              "    }\n",
              "\n",
              "    .dataframe tbody tr th {\n",
              "        vertical-align: top;\n",
              "    }\n",
              "\n",
              "    .dataframe thead th {\n",
              "        text-align: right;\n",
              "    }\n",
              "</style>\n",
              "<table border=\"1\" class=\"dataframe\">\n",
              "  <thead>\n",
              "    <tr style=\"text-align: right;\">\n",
              "      <th></th>\n",
              "      <th>High</th>\n",
              "      <th>Low</th>\n",
              "      <th>Open</th>\n",
              "      <th>Close</th>\n",
              "      <th>Volume</th>\n",
              "      <th>Adj Close</th>\n",
              "    </tr>\n",
              "    <tr>\n",
              "      <th>Date</th>\n",
              "      <th></th>\n",
              "      <th></th>\n",
              "      <th></th>\n",
              "      <th></th>\n",
              "      <th></th>\n",
              "      <th></th>\n",
              "    </tr>\n",
              "  </thead>\n",
              "  <tbody>\n",
              "    <tr>\n",
              "      <th>2019-01-02</th>\n",
              "      <td>39.712502</td>\n",
              "      <td>38.557499</td>\n",
              "      <td>38.722500</td>\n",
              "      <td>39.480000</td>\n",
              "      <td>148158800.0</td>\n",
              "      <td>38.249401</td>\n",
              "    </tr>\n",
              "    <tr>\n",
              "      <th>2019-01-03</th>\n",
              "      <td>36.430000</td>\n",
              "      <td>35.500000</td>\n",
              "      <td>35.994999</td>\n",
              "      <td>35.547501</td>\n",
              "      <td>365248800.0</td>\n",
              "      <td>34.439476</td>\n",
              "    </tr>\n",
              "    <tr>\n",
              "      <th>2019-01-04</th>\n",
              "      <td>37.137501</td>\n",
              "      <td>35.950001</td>\n",
              "      <td>36.132500</td>\n",
              "      <td>37.064999</td>\n",
              "      <td>234428400.0</td>\n",
              "      <td>35.909672</td>\n",
              "    </tr>\n",
              "    <tr>\n",
              "      <th>2019-01-07</th>\n",
              "      <td>37.207500</td>\n",
              "      <td>36.474998</td>\n",
              "      <td>37.174999</td>\n",
              "      <td>36.982498</td>\n",
              "      <td>219111200.0</td>\n",
              "      <td>35.829746</td>\n",
              "    </tr>\n",
              "    <tr>\n",
              "      <th>2019-01-08</th>\n",
              "      <td>37.955002</td>\n",
              "      <td>37.130001</td>\n",
              "      <td>37.389999</td>\n",
              "      <td>37.687500</td>\n",
              "      <td>164101200.0</td>\n",
              "      <td>36.512772</td>\n",
              "    </tr>\n",
              "    <tr>\n",
              "      <th>...</th>\n",
              "      <td>...</td>\n",
              "      <td>...</td>\n",
              "      <td>...</td>\n",
              "      <td>...</td>\n",
              "      <td>...</td>\n",
              "      <td>...</td>\n",
              "    </tr>\n",
              "    <tr>\n",
              "      <th>2020-10-30</th>\n",
              "      <td>111.989998</td>\n",
              "      <td>107.720001</td>\n",
              "      <td>111.059998</td>\n",
              "      <td>108.860001</td>\n",
              "      <td>190272600.0</td>\n",
              "      <td>108.672516</td>\n",
              "    </tr>\n",
              "    <tr>\n",
              "      <th>2020-11-02</th>\n",
              "      <td>110.680000</td>\n",
              "      <td>107.320000</td>\n",
              "      <td>109.110001</td>\n",
              "      <td>108.769997</td>\n",
              "      <td>122866900.0</td>\n",
              "      <td>108.582664</td>\n",
              "    </tr>\n",
              "    <tr>\n",
              "      <th>2020-11-03</th>\n",
              "      <td>111.489998</td>\n",
              "      <td>108.730003</td>\n",
              "      <td>109.660004</td>\n",
              "      <td>110.440002</td>\n",
              "      <td>107624400.0</td>\n",
              "      <td>110.249794</td>\n",
              "    </tr>\n",
              "    <tr>\n",
              "      <th>2020-11-04</th>\n",
              "      <td>115.589996</td>\n",
              "      <td>112.349998</td>\n",
              "      <td>114.139999</td>\n",
              "      <td>114.949997</td>\n",
              "      <td>138235500.0</td>\n",
              "      <td>114.752022</td>\n",
              "    </tr>\n",
              "    <tr>\n",
              "      <th>2020-11-05</th>\n",
              "      <td>119.620003</td>\n",
              "      <td>116.870003</td>\n",
              "      <td>117.949997</td>\n",
              "      <td>119.029999</td>\n",
              "      <td>126387100.0</td>\n",
              "      <td>118.824997</td>\n",
              "    </tr>\n",
              "  </tbody>\n",
              "</table>\n",
              "<p>467 rows × 6 columns</p>\n",
              "</div>"
            ],
            "text/plain": [
              "                  High         Low  ...       Volume   Adj Close\n",
              "Date                                ...                         \n",
              "2019-01-02   39.712502   38.557499  ...  148158800.0   38.249401\n",
              "2019-01-03   36.430000   35.500000  ...  365248800.0   34.439476\n",
              "2019-01-04   37.137501   35.950001  ...  234428400.0   35.909672\n",
              "2019-01-07   37.207500   36.474998  ...  219111200.0   35.829746\n",
              "2019-01-08   37.955002   37.130001  ...  164101200.0   36.512772\n",
              "...                ...         ...  ...          ...         ...\n",
              "2020-10-30  111.989998  107.720001  ...  190272600.0  108.672516\n",
              "2020-11-02  110.680000  107.320000  ...  122866900.0  108.582664\n",
              "2020-11-03  111.489998  108.730003  ...  107624400.0  110.249794\n",
              "2020-11-04  115.589996  112.349998  ...  138235500.0  114.752022\n",
              "2020-11-05  119.620003  116.870003  ...  126387100.0  118.824997\n",
              "\n",
              "[467 rows x 6 columns]"
            ]
          },
          "metadata": {
            "tags": []
          },
          "execution_count": 25
        }
      ]
    },
    {
      "cell_type": "code",
      "metadata": {
        "id": "nY4IymHoVxUI",
        "outputId": "98b8a891-3478-4448-b991-9eb67e76e435",
        "colab": {
          "base_uri": "https://localhost:8080/"
        }
      },
      "source": [
        "#get the number of rows and colums in the data set\n",
        "df.shape"
      ],
      "execution_count": null,
      "outputs": [
        {
          "output_type": "execute_result",
          "data": {
            "text/plain": [
              "(467, 6)"
            ]
          },
          "metadata": {
            "tags": []
          },
          "execution_count": 26
        }
      ]
    },
    {
      "cell_type": "code",
      "metadata": {
        "id": "DEZYJ-qoV3p-",
        "outputId": "71476d22-8fa9-43e1-ca1f-bd78c27ab3c7",
        "colab": {
          "base_uri": "https://localhost:8080/",
          "height": 521
        }
      },
      "source": [
        "#Visualise the closing price history\n",
        "plt.figure(figsize=(16,8))\n",
        "plt.title('Close Price History')\n",
        "plt.plot(df['Close'])\n",
        "plt.xlabel('Date', fontsize=18)\n",
        "plt.ylabel('Close price USD ($)', fontsize = 18)\n",
        "plt.show()"
      ],
      "execution_count": null,
      "outputs": [
        {
          "output_type": "display_data",
          "data": {
            "image/png": "[encoded data removed]",
            "text/plain": [
              "<Figure size 1152x576 with 1 Axes>"
            ]
          },
          "metadata": {
            "tags": []
          }
        }
      ]
    },
    {
      "cell_type": "code",
      "metadata": {
        "id": "Pag4ORckZ2hq",
        "outputId": "8ba4070b-0455-4dc6-899e-21ecb81d9fad",
        "colab": {
          "base_uri": "https://localhost:8080/"
        }
      },
      "source": [
        "#create a new datafram with only the 'Close column'\n",
        "data = df.filter(['Close'])\n",
        "#convert the dataframe to a numpy array\n",
        "dataset = data.values\n",
        "#Get the number of rows to train the model on\n",
        "training_data_len = math.ceil(len(dataset) * .8)\n",
        "\n",
        "training_data_len"
      ],
      "execution_count": null,
      "outputs": [
        {
          "output_type": "execute_result",
          "data": {
            "text/plain": [
              "374"
            ]
          },
          "metadata": {
            "tags": []
          },
          "execution_count": 28
        }
      ]
    },
    {
      "cell_type": "code",
      "metadata": {
        "id": "niqahxUka4rN",
        "outputId": "3869b652-6fbd-4cbd-f1f9-917365d52781",
        "colab": {
          "base_uri": "https://localhost:8080/"
        }
      },
      "source": [
        "#Scale the Data\n",
        "scaler = MinMaxScaler(feature_range=(0,1))\n",
        "scaled_data = scaler.fit_transform(dataset)\n",
        "\n",
        "scaled_data"
      ],
      "execution_count": null,
      "outputs": [
        {
          "output_type": "execute_result",
          "data": {
            "text/plain": [
              "array([[0.03987022],\n",
              "       [0.        ],\n",
              "       [0.01538538],\n",
              "       [0.01454893],\n",
              "       [0.0216967 ],\n",
              "       [0.02818543],\n",
              "       [0.02942742],\n",
              "       [0.02560006],\n",
              "       [0.0197957 ],\n",
              "       [0.02757713],\n",
              "       [0.03231694],\n",
              "       [0.03464882],\n",
              "       [0.03708211],\n",
              "       [0.02816009],\n",
              "       [0.02973157],\n",
              "       [0.02663928],\n",
              "       [0.03946466],\n",
              "       [0.03576408],\n",
              "       [0.0316579 ],\n",
              "       [0.05844929],\n",
              "       [0.06146555],\n",
              "       [0.06166832],\n",
              "       [0.07365726],\n",
              "       [0.0810838 ],\n",
              "       [0.08123592],\n",
              "       [0.07287152],\n",
              "       [0.07152816],\n",
              "       [0.06904416],\n",
              "       [0.07274478],\n",
              "       [0.07094516],\n",
              "       [0.07251667],\n",
              "       [0.07155349],\n",
              "       [0.07284615],\n",
              "       [0.0756343 ],\n",
              "       [0.07317567],\n",
              "       [0.07801688],\n",
              "       [0.08121054],\n",
              "       [0.08146403],\n",
              "       [0.08283273],\n",
              "       [0.0784731 ],\n",
              "       [0.08308621],\n",
              "       [0.08531672],\n",
              "       [0.08450561],\n",
              "       [0.08194562],\n",
              "       [0.07682559],\n",
              "       [0.07786481],\n",
              "       [0.09304741],\n",
              "       [0.0981421 ],\n",
              "       [0.10016984],\n",
              "       [0.10528983],\n",
              "       [0.11134767],\n",
              "       [0.11616355],\n",
              "       [0.11238689],\n",
              "       [0.1165184 ],\n",
              "       [0.13408359],\n",
              "       [0.12384357],\n",
              "       [0.11798851],\n",
              "       [0.11304589],\n",
              "       [0.11730414],\n",
              "       [0.11793781],\n",
              "       [0.12105543],\n",
              "       [0.12432516],\n",
              "       [0.13137152],\n",
              "       [0.13474263],\n",
              "       [0.1356044 ],\n",
              "       [0.1389248 ],\n",
              "       [0.14678227],\n",
              "       [0.14526146],\n",
              "       [0.14810026],\n",
              "       [0.14386738],\n",
              "       [0.14366461],\n",
              "       [0.14457709],\n",
              "       [0.14462779],\n",
              "       [0.15446229],\n",
              "       [0.15631258],\n",
              "       [0.1580108 ],\n",
              "       [0.16548805],\n",
              "       [0.16467697],\n",
              "       [0.1599118 ],\n",
              "       [0.15742784],\n",
              "       [0.15821358],\n",
              "       [0.14822701],\n",
              "       [0.17319344],\n",
              "       [0.16972093],\n",
              "       [0.17631106],\n",
              "       [0.16802271],\n",
              "       [0.15377792],\n",
              "       [0.15387929],\n",
              "       [0.14835375],\n",
              "       [0.13938102],\n",
              "       [0.11033382],\n",
              "       [0.11778573],\n",
              "       [0.12351405],\n",
              "       [0.12138495],\n",
              "       [0.11864751],\n",
              "       [0.10366765],\n",
              "       [0.11256434],\n",
              "       [0.10288191],\n",
              "       [0.09497378],\n",
              "       [0.09322485],\n",
              "       [0.09134919],\n",
              "       [0.08919475],\n",
              "       [0.09152664],\n",
              "       [0.08333969],\n",
              "       [0.07885333],\n",
              "       [0.09492307],\n",
              "       [0.10227358],\n",
              "       [0.10906649],\n",
              "       [0.12156235],\n",
              "       [0.1277216 ],\n",
              "       [0.13337389],\n",
              "       [0.13180241],\n",
              "       [0.131701  ],\n",
              "       [0.12812716],\n",
              "       [0.131042  ],\n",
              "       [0.14260005],\n",
              "       [0.14112994],\n",
              "       [0.14516009],\n",
              "       [0.1434365 ],\n",
              "       [0.14292957],\n",
              "       [0.13530025],\n",
              "       [0.14602186],\n",
              "       [0.14586979],\n",
              "       [0.14125669],\n",
              "       [0.15045752],\n",
              "       [0.1534484 ],\n",
              "       [0.15770665],\n",
              "       [0.15725039],\n",
              "       [0.14657949],\n",
              "       [0.14967178],\n",
              "       [0.15471573],\n",
              "       [0.15096444],\n",
              "       [0.15489318],\n",
              "       [0.15973439],\n",
              "       [0.15793476],\n",
              "       [0.15501992],\n",
              "       [0.16087498],\n",
              "       [0.15309355],\n",
              "       [0.16482905],\n",
              "       [0.16893519],\n",
              "       [0.1685043 ],\n",
              "       [0.16432212],\n",
              "       [0.16614708],\n",
              "       [0.17106429],\n",
              "       [0.16878311],\n",
              "       [0.17958076],\n",
              "       [0.16789597],\n",
              "       [0.15671814],\n",
              "       [0.12964793],\n",
              "       [0.1389248 ],\n",
              "       [0.14409549],\n",
              "       [0.15522266],\n",
              "       [0.14903812],\n",
              "       [0.14774541],\n",
              "       [0.16926471],\n",
              "       [0.15349911],\n",
              "       [0.15093911],\n",
              "       [0.16300409],\n",
              "       [0.17276255],\n",
              "       [0.17278788],\n",
              "       [0.17856691],\n",
              "       [0.17811069],\n",
              "       [0.15322029],\n",
              "       [0.16297876],\n",
              "       [0.15707299],\n",
              "       [0.16054546],\n",
              "       [0.16936607],\n",
              "       [0.16868174],\n",
              "       [0.16097635],\n",
              "       [0.16982233],\n",
              "       [0.18018909],\n",
              "       [0.18013839],\n",
              "       [0.18244494],\n",
              "       [0.18885763],\n",
              "       [0.20632145],\n",
              "       [0.20505412],\n",
              "       [0.19405369],\n",
              "       [0.19696854],\n",
              "       [0.19899628],\n",
              "       [0.20424304],\n",
              "       [0.19965531],\n",
              "       [0.19146833],\n",
              "       [0.19397766],\n",
              "       [0.19134159],\n",
              "       [0.19983272],\n",
              "       [0.19694321],\n",
              "       [0.19423114],\n",
              "       [0.20728463],\n",
              "       [0.20885611],\n",
              "       [0.19458599],\n",
              "       [0.19930046],\n",
              "       [0.21498999],\n",
              "       [0.21511673],\n",
              "       [0.20837452],\n",
              "       [0.21504069],\n",
              "       [0.22279675],\n",
              "       [0.2383089 ],\n",
              "       [0.23744709],\n",
              "       [0.23605306],\n",
              "       [0.2336451 ],\n",
              "       [0.23595165],\n",
              "       [0.23881583],\n",
              "       [0.24920792],\n",
              "       [0.24781389],\n",
              "       [0.25597546],\n",
              "       [0.25698935],\n",
              "       [0.26459333],\n",
              "       [0.27085395],\n",
              "       [0.25625427],\n",
              "       [0.25617824],\n",
              "       [0.27011888],\n",
              "       [0.28801362],\n",
              "       [0.29227183],\n",
              "       [0.29133402],\n",
              "       [0.2916128 ],\n",
              "       [0.29716371],\n",
              "       [0.29896338],\n",
              "       [0.30418478],\n",
              "       [0.3035764 ],\n",
              "       [0.30993843],\n",
              "       [0.30530003],\n",
              "       [0.31320816],\n",
              "       [0.3166046 ],\n",
              "       [0.31455153],\n",
              "       [0.30669407],\n",
              "       [0.30370318],\n",
              "       [0.30312018],\n",
              "       [0.31475427],\n",
              "       [0.30948221],\n",
              "       [0.31848023],\n",
              "       [0.31698479],\n",
              "       [0.30915269],\n",
              "       [0.29721446],\n",
              "       [0.30301878],\n",
              "       [0.31275187],\n",
              "       [0.32575469],\n",
              "       [0.31614838],\n",
              "       [0.32010245],\n",
              "       [0.32590677],\n",
              "       [0.32765569],\n",
              "       [0.3370086 ],\n",
              "       [0.34894683],\n",
              "       [0.35034094],\n",
              "       [0.34864269],\n",
              "       [0.34935239],\n",
              "       [0.34788232],\n",
              "       [0.35944037],\n",
              "       [0.3601247 ],\n",
              "       [0.37442023],\n",
              "       [0.37414138],\n",
              "       [0.378501  ],\n",
              "       [0.38389984],\n",
              "       [0.4008821 ],\n",
              "       [0.39348086],\n",
              "       [0.39948799],\n",
              "       [0.39591419],\n",
              "       [0.40808053],\n",
              "       [0.42440376],\n",
              "       [0.42617798],\n",
              "       [0.4429828 ],\n",
              "       [0.43213445],\n",
              "       [0.42873801],\n",
              "       [0.43862318],\n",
              "       [0.4474692 ],\n",
              "       [0.44199432],\n",
              "       [0.4448585 ],\n",
              "       [0.44873653],\n",
              "       [0.44640461],\n",
              "       [0.42268021],\n",
              "       [0.44483313],\n",
              "       [0.46168861],\n",
              "       [0.46049732],\n",
              "       [0.42409961],\n",
              "       [0.42194514],\n",
              "       [0.44777335],\n",
              "       [0.45436348],\n",
              "       [0.46389376],\n",
              "       [0.45076423],\n",
              "       [0.45461689],\n",
              "       [0.44969964],\n",
              "       [0.46893779],\n",
              "       [0.46303198],\n",
              "       [0.4632348 ],\n",
              "       [0.44815353],\n",
              "       [0.45986365],\n",
              "       [0.45144856],\n",
              "       [0.43307226],\n",
              "       [0.39538185],\n",
              "       [0.36978176],\n",
              "       [0.38136518],\n",
              "       [0.33287709],\n",
              "       [0.33247153],\n",
              "       [0.3969787 ],\n",
              "       [0.37292479],\n",
              "       [0.4069399 ],\n",
              "       [0.38204959],\n",
              "       [0.37218971],\n",
              "       [0.31424739],\n",
              "       [0.36283681],\n",
              "       [0.3377183 ],\n",
              "       [0.26877551],\n",
              "       [0.34415636],\n",
              "       [0.25351687],\n",
              "       [0.28051101],\n",
              "       [0.26482144],\n",
              "       [0.26003093],\n",
              "       [0.22064231],\n",
              "       [0.20829848],\n",
              "       [0.26535374],\n",
              "       [0.2619066 ],\n",
              "       [0.29465442],\n",
              "       [0.26753355],\n",
              "       [0.28545359],\n",
              "       [0.28413555],\n",
              "       [0.25022181],\n",
              "       [0.26041112],\n",
              "       [0.25148914],\n",
              "       [0.30486911],\n",
              "       [0.29716371],\n",
              "       [0.3139939 ],\n",
              "       [0.31886041],\n",
              "       [0.33219276],\n",
              "       [0.36717106],\n",
              "       [0.36053026],\n",
              "       [0.36625862],\n",
              "       [0.35639874],\n",
              "       [0.34152029],\n",
              "       [0.31982359],\n",
              "       [0.33941656],\n",
              "       [0.33670445],\n",
              "       [0.35682967],\n",
              "       [0.35733663],\n",
              "       [0.34570247],\n",
              "       [0.36889469],\n",
              "       [0.38428002],\n",
              "       [0.37229112],\n",
              "       [0.38265788],\n",
              "       [0.39381038],\n",
              "       [0.40159181],\n",
              "       [0.40947457],\n",
              "       [0.42567109],\n",
              "       [0.43804025],\n",
              "       [0.42891546],\n",
              "       [0.4193851 ],\n",
              "       [0.42417565],\n",
              "       [0.41953718],\n",
              "       [0.43791347],\n",
              "       [0.43330045],\n",
              "       [0.44873653],\n",
              "       [0.44270402],\n",
              "       [0.44787475],\n",
              "       [0.44239987],\n",
              "       [0.44589764],\n",
              "       [0.44625253],\n",
              "       [0.44546679],\n",
              "       [0.45537733],\n",
              "       [0.45915395],\n",
              "       [0.46366565],\n",
              "       [0.45656862],\n",
              "       [0.4798368 ],\n",
              "       [0.48480472],\n",
              "       [0.5114947 ],\n",
              "       [0.53392647],\n",
              "       [0.4909893 ],\n",
              "       [0.4983398 ],\n",
              "       [0.50896004],\n",
              "       [0.5320001 ],\n",
              "       [0.53075814],\n",
              "       [0.53111303],\n",
              "       [0.52601834],\n",
              "       [0.54921048],\n",
              "       [0.568626  ],\n",
              "       [0.55222673],\n",
              "       [0.56434241],\n",
              "       [0.53592888],\n",
              "       [0.55658635],\n",
              "       [0.564241  ],\n",
              "       [0.56249208],\n",
              "       [0.56249208],\n",
              "       [0.58717974],\n",
              "       [0.58423952],\n",
              "       [0.60624037],\n",
              "       [0.61039725],\n",
              "       [0.61209543],\n",
              "       [0.60760911],\n",
              "       [0.62362819],\n",
              "       [0.63039569],\n",
              "       [0.61820397],\n",
              "       [0.61622694],\n",
              "       [0.63680838],\n",
              "       [0.62304519],\n",
              "       [0.62580796],\n",
              "       [0.58091912],\n",
              "       [0.5785872 ],\n",
              "       [0.60084153],\n",
              "       [0.58505063],\n",
              "       [0.60317345],\n",
              "       [0.61483291],\n",
              "       [0.71692908],\n",
              "       [0.74407528],\n",
              "       [0.75145116],\n",
              "       [0.75548126],\n",
              "       [0.79441363],\n",
              "       [0.76612687],\n",
              "       [0.78250076],\n",
              "       [0.74851094],\n",
              "       [0.78536494],\n",
              "       [0.80564224],\n",
              "       [0.80460302],\n",
              "       [0.80156139],\n",
              "       [0.81124382],\n",
              "       [0.81271389],\n",
              "       [0.83874491],\n",
              "       [0.90053998],\n",
              "       [0.91562117],\n",
              "       [0.905153  ],\n",
              "       [0.92236338],\n",
              "       [0.9070287 ],\n",
              "       [0.90497563],\n",
              "       [0.94788736],\n",
              "       [1.        ],\n",
              "       [0.97181457],\n",
              "       [0.86515604],\n",
              "       [0.86596715],\n",
              "       [0.78343858],\n",
              "       [0.82906249],\n",
              "       [0.79023145],\n",
              "       [0.77512489],\n",
              "       [0.80919075],\n",
              "       [0.81101571],\n",
              "       [0.77644288],\n",
              "       [0.7582947 ],\n",
              "       [0.72280943],\n",
              "       [0.7556587 ],\n",
              "       [0.77319852],\n",
              "       [0.72564832],\n",
              "       [0.73680082],\n",
              "       [0.7779637 ],\n",
              "       [0.80513527],\n",
              "       [0.79631462],\n",
              "       [0.81375311],\n",
              "       [0.82368902],\n",
              "       [0.78546627],\n",
              "       [0.8207488 ],\n",
              "       [0.78688576],\n",
              "       [0.80635194],\n",
              "       [0.80523668],\n",
              "       [0.82551398],\n",
              "       [0.90084412],\n",
              "       [0.86738656],\n",
              "       [0.86829908],\n",
              "       [0.86343249],\n",
              "       [0.84629815],\n",
              "       [0.81547674],\n",
              "       [0.83098885],\n",
              "       [0.82450013],\n",
              "       [0.81314481],\n",
              "       [0.80594638],\n",
              "       [0.80604779],\n",
              "       [0.82176265],\n",
              "       [0.76701394],\n",
              "       [0.80878519],\n",
              "       [0.74328954],\n",
              "       [0.74237703],\n",
              "       [0.75930862],\n",
              "       [0.80503387],\n",
              "       [0.84639956]])"
            ]
          },
          "metadata": {
            "tags": []
          },
          "execution_count": 29
        }
      ]
    },
    {
      "cell_type": "code",
      "metadata": {
        "id": "OiLpXtgDjDzY",
        "outputId": "d6d10d00-1e76-40f0-bca0-3b87b3f58874",
        "colab": {
          "base_uri": "https://localhost:8080/"
        }
      },
      "source": [
        "#Create the training Data set\n",
        "#Create the scaled training data set\n",
        "train_data = scaled_data[0:training_data_len , :]\n",
        "#Split the data into x_train and y_train data sets\n",
        "x_train = []\n",
        "y_train = []\n",
        "\n",
        "for i in range(60, len(train_data)):\n",
        "  x_train.append(train_data[i-60:i, 0])\n",
        "  y_train.append(train_data[i, 0])\n",
        "  if i<=61:\n",
        "    print(x_train)\n",
        "    print(y_train)\n",
        "    print()"
      ],
      "execution_count": null,
      "outputs": [
        {
          "output_type": "stream",
          "text": [
            "[array([0.03987022, 0.        , 0.01538538, 0.01454893, 0.0216967 ,\n",
            "       0.02818543, 0.02942742, 0.02560006, 0.0197957 , 0.02757713,\n",
            "       0.03231694, 0.03464882, 0.03708211, 0.02816009, 0.02973157,\n",
            "       0.02663928, 0.03946466, 0.03576408, 0.0316579 , 0.05844929,\n",
            "       0.06146555, 0.06166832, 0.07365726, 0.0810838 , 0.08123592,\n",
            "       0.07287152, 0.07152816, 0.06904416, 0.07274478, 0.07094516,\n",
            "       0.07251667, 0.07155349, 0.07284615, 0.0756343 , 0.07317567,\n",
            "       0.07801688, 0.08121054, 0.08146403, 0.08283273, 0.0784731 ,\n",
            "       0.08308621, 0.08531672, 0.08450561, 0.08194562, 0.07682559,\n",
            "       0.07786481, 0.09304741, 0.0981421 , 0.10016984, 0.10528983,\n",
            "       0.11134767, 0.11616355, 0.11238689, 0.1165184 , 0.13408359,\n",
            "       0.12384357, 0.11798851, 0.11304589, 0.11730414, 0.11793781])]\n",
            "[0.12105542886200593]\n",
            "\n",
            "[array([0.03987022, 0.        , 0.01538538, 0.01454893, 0.0216967 ,\n",
            "       0.02818543, 0.02942742, 0.02560006, 0.0197957 , 0.02757713,\n",
            "       0.03231694, 0.03464882, 0.03708211, 0.02816009, 0.02973157,\n",
            "       0.02663928, 0.03946466, 0.03576408, 0.0316579 , 0.05844929,\n",
            "       0.06146555, 0.06166832, 0.07365726, 0.0810838 , 0.08123592,\n",
            "       0.07287152, 0.07152816, 0.06904416, 0.07274478, 0.07094516,\n",
            "       0.07251667, 0.07155349, 0.07284615, 0.0756343 , 0.07317567,\n",
            "       0.07801688, 0.08121054, 0.08146403, 0.08283273, 0.0784731 ,\n",
            "       0.08308621, 0.08531672, 0.08450561, 0.08194562, 0.07682559,\n",
            "       0.07786481, 0.09304741, 0.0981421 , 0.10016984, 0.10528983,\n",
            "       0.11134767, 0.11616355, 0.11238689, 0.1165184 , 0.13408359,\n",
            "       0.12384357, 0.11798851, 0.11304589, 0.11730414, 0.11793781]), array([0.        , 0.01538538, 0.01454893, 0.0216967 , 0.02818543,\n",
            "       0.02942742, 0.02560006, 0.0197957 , 0.02757713, 0.03231694,\n",
            "       0.03464882, 0.03708211, 0.02816009, 0.02973157, 0.02663928,\n",
            "       0.03946466, 0.03576408, 0.0316579 , 0.05844929, 0.06146555,\n",
            "       0.06166832, 0.07365726, 0.0810838 , 0.08123592, 0.07287152,\n",
            "       0.07152816, 0.06904416, 0.07274478, 0.07094516, 0.07251667,\n",
            "       0.07155349, 0.07284615, 0.0756343 , 0.07317567, 0.07801688,\n",
            "       0.08121054, 0.08146403, 0.08283273, 0.0784731 , 0.08308621,\n",
            "       0.08531672, 0.08450561, 0.08194562, 0.07682559, 0.07786481,\n",
            "       0.09304741, 0.0981421 , 0.10016984, 0.10528983, 0.11134767,\n",
            "       0.11616355, 0.11238689, 0.1165184 , 0.13408359, 0.12384357,\n",
            "       0.11798851, 0.11304589, 0.11730414, 0.11793781, 0.12105543])]\n",
            "[0.12105542886200593, 0.12432516411331163]\n",
            "\n"
          ],
          "name": "stdout"
        }
      ]
    },
    {
      "cell_type": "code",
      "metadata": {
        "id": "5igfAYrlrwoi"
      },
      "source": [
        "#Convert the xtrain and y_train to numpy arrays\n",
        "x_train, y_train = np.array(x_train), np.array(y_train)"
      ],
      "execution_count": null,
      "outputs": []
    },
    {
      "cell_type": "code",
      "metadata": {
        "id": "JA0FkbJ51YmV",
        "outputId": "4cf25cac-f06b-49f3-ef74-53cc2c2cfe55",
        "colab": {
          "base_uri": "https://localhost:8080/"
        }
      },
      "source": [
        "#Reshape the data because LSTM expects the input as a 3D array as \n",
        "x_train = np.reshape(x_train, (x_train.shape[0], x_train.shape[1], 1))\n",
        "x_train.shape"
      ],
      "execution_count": null,
      "outputs": [
        {
          "output_type": "execute_result",
          "data": {
            "text/plain": [
              "(314, 60, 1)"
            ]
          },
          "metadata": {
            "tags": []
          },
          "execution_count": 32
        }
      ]
    },
    {
      "cell_type": "code",
      "metadata": {
        "id": "a0QUTNfUSVCr"
      },
      "source": [
        "#Build the LSTM model\n",
        "model = Sequential()\n",
        "model.add(LSTM(50, return_sequences=True, input_shape= (x_train.shape[1], 1)))\n",
        "model.add(LSTM(50, return_sequences=False))\n",
        "model.add(Dense(25))\n",
        "model.add(Dense(1))"
      ],
      "execution_count": null,
      "outputs": []
    },
    {
      "cell_type": "code",
      "metadata": {
        "id": "fVkgAGFrS6J9"
      },
      "source": [
        "#Compile the model\n",
        "model.compile(optimizer ='adam', loss='mean_squared_error')"
      ],
      "execution_count": null,
      "outputs": []
    },
    {
      "cell_type": "code",
      "metadata": {
        "id": "-0MlIeCUTNJQ",
        "outputId": "3ee7cd03-0248-46c8-8a56-314cedb0ab01",
        "colab": {
          "base_uri": "https://localhost:8080/"
        }
      },
      "source": [
        "#Train the model\n",
        "model.fit(x_train, y_train, batch_size=1, epochs=1)"
      ],
      "execution_count": null,
      "outputs": [
        {
          "output_type": "stream",
          "text": [
            "314/314 [==============================] - 6s 20ms/step - loss: 0.0022\n"
          ],
          "name": "stdout"
        },
        {
          "output_type": "execute_result",
          "data": {
            "text/plain": [
              "<tensorflow.python.keras.callbacks.History at 0x7f8893540780>"
            ]
          },
          "metadata": {
            "tags": []
          },
          "execution_count": 35
        }
      ]
    },
    {
      "cell_type": "code",
      "metadata": {
        "id": "W7Z_NeIRTv04"
      },
      "source": [
        "#Create the testing Dataset\n",
        "#Create a new Array containing skilled value from index 1715 to 2200\n",
        "test_data = scaled_data[training_data_len - 60: , :]\n",
        "#Create the data set x_test and y_test\n",
        "x_test = []\n",
        "y_test = dataset[training_data_len:, :]\n",
        "for i in range(60, len(test_data)):\n",
        "  x_test.append(test_data[i-60:i, 0])"
      ],
      "execution_count": null,
      "outputs": []
    },
    {
      "cell_type": "code",
      "metadata": {
        "id": "ptn2I8GXVnzh"
      },
      "source": [
        "#Convert the data to a numpy array\n",
        "x_test = np.array(x_test)\n"
      ],
      "execution_count": null,
      "outputs": []
    },
    {
      "cell_type": "code",
      "metadata": {
        "id": "rEjv5pAcWPd2"
      },
      "source": [
        "#Reshape the data\n",
        "x_test = np.reshape(x_test, (x_test.shape[0], x_test.shape[1], 1))"
      ],
      "execution_count": null,
      "outputs": []
    },
    {
      "cell_type": "code",
      "metadata": {
        "id": "NMprz8VbWmgP"
      },
      "source": [
        "#Get the models predicted price values\n",
        "predictions = model.predict(x_test)\n",
        "predictions = scaler.inverse_transform(predictions)\n"
      ],
      "execution_count": null,
      "outputs": []
    },
    {
      "cell_type": "code",
      "metadata": {
        "id": "Sg8fmKeEXGXP",
        "outputId": "1ff45917-87af-4061-fc47-32f3b7b8378a",
        "colab": {
          "base_uri": "https://localhost:8080/"
        }
      },
      "source": [
        "#Get the root mean squared error(RMSE)\n",
        "rmse=np.sqrt(np.mean(((predictions- y_test)**2)))\n",
        "rmse"
      ],
      "execution_count": null,
      "outputs": [
        {
          "output_type": "execute_result",
          "data": {
            "text/plain": [
              "5.701579362695582"
            ]
          },
          "metadata": {
            "tags": []
          },
          "execution_count": 40
        }
      ]
    },
    {
      "cell_type": "code",
      "metadata": {
        "id": "papRBjAOXu76",
        "outputId": "c725e193-6846-475d-8fd9-7f07fb8f4f04",
        "colab": {
          "base_uri": "https://localhost:8080/",
          "height": 627
        }
      },
      "source": [
        "#Plot the data \n",
        "train = data[:training_data_len]\n",
        "valid = data[training_data_len:]\n",
        "valid['Predictions'] = predictions\n",
        "#Visualise the data\n",
        "plt.figure(figsize = (16,8))\n",
        "plt.title('Model')\n",
        "plt.xlabel('Date', fontsize =18)\n",
        "plt.ylabel(\"Close Price USD ($)\", fontsize= 18)\n",
        "plt.plot(train['Close'])\n",
        "plt.plot(valid[['Close', 'Predictions']])\n",
        "plt.legend(['Train', 'Val', 'Predictions'], loc='lower right')\n",
        "plt.show()"
      ],
      "execution_count": null,
      "outputs": [
        {
          "output_type": "stream",
          "text": [
            "/usr/local/lib/python3.6/dist-packages/ipykernel_launcher.py:4: SettingWithCopyWarning: \n",
            "A value is trying to be set on a copy of a slice from a DataFrame.\n",
            "Try using .loc[row_indexer,col_indexer] = value instead\n",
            "\n",
            "See the caveats in the documentation: https://pandas.pydata.org/pandas-docs/stable/user_guide/indexing.html#returning-a-view-versus-a-copy\n",
            "  after removing the cwd from sys.path.\n"
          ],
          "name": "stderr"
        },
        {
          "output_type": "display_data",
          "data": {
            "image/png": "[encoded data removed]",
            "text/plain": [
              "<Figure size 1152x576 with 1 Axes>"
            ]
          },
          "metadata": {
            "tags": []
          }
        }
      ]
    },
    {
      "cell_type": "code",
      "metadata": {
        "id": "jv6F6AWiaEAT",
        "outputId": "f9961b41-bf63-40ef-8f38-f1c1d095375a",
        "colab": {
          "base_uri": "https://localhost:8080/",
          "height": 436
        }
      },
      "source": [
        "#show the vlaid and the predicted prices\n",
        "valid"
      ],
      "execution_count": null,
      "outputs": [
        {
          "output_type": "execute_result",
          "data": {
            "text/html": [
              "<div>\n",
              "<style scoped>\n",
              "    .dataframe tbody tr th:only-of-type {\n",
              "        vertical-align: middle;\n",
              "    }\n",
              "\n",
              "    .dataframe tbody tr th {\n",
              "        vertical-align: top;\n",
              "    }\n",
              "\n",
              "    .dataframe thead th {\n",
              "        text-align: right;\n",
              "    }\n",
              "</style>\n",
              "<table border=\"1\" class=\"dataframe\">\n",
              "  <thead>\n",
              "    <tr style=\"text-align: right;\">\n",
              "      <th></th>\n",
              "      <th>Close</th>\n",
              "      <th>Predictions</th>\n",
              "    </tr>\n",
              "    <tr>\n",
              "      <th>Date</th>\n",
              "      <th></th>\n",
              "      <th></th>\n",
              "    </tr>\n",
              "  </thead>\n",
              "  <tbody>\n",
              "    <tr>\n",
              "      <th>2020-06-26</th>\n",
              "      <td>88.407501</td>\n",
              "      <td>92.606186</td>\n",
              "    </tr>\n",
              "    <tr>\n",
              "      <th>2020-06-29</th>\n",
              "      <td>90.445000</td>\n",
              "      <td>92.962097</td>\n",
              "    </tr>\n",
              "    <tr>\n",
              "      <th>2020-06-30</th>\n",
              "      <td>91.199997</td>\n",
              "      <td>93.289360</td>\n",
              "    </tr>\n",
              "    <tr>\n",
              "      <th>2020-07-01</th>\n",
              "      <td>91.027496</td>\n",
              "      <td>93.619308</td>\n",
              "    </tr>\n",
              "    <tr>\n",
              "      <th>2020-07-02</th>\n",
              "      <td>91.027496</td>\n",
              "      <td>93.910126</td>\n",
              "    </tr>\n",
              "    <tr>\n",
              "      <th>...</th>\n",
              "      <td>...</td>\n",
              "      <td>...</td>\n",
              "    </tr>\n",
              "    <tr>\n",
              "      <th>2020-10-30</th>\n",
              "      <td>108.860001</td>\n",
              "      <td>118.756897</td>\n",
              "    </tr>\n",
              "    <tr>\n",
              "      <th>2020-11-02</th>\n",
              "      <td>108.769997</td>\n",
              "      <td>117.846527</td>\n",
              "    </tr>\n",
              "    <tr>\n",
              "      <th>2020-11-03</th>\n",
              "      <td>110.440002</td>\n",
              "      <td>116.806313</td>\n",
              "    </tr>\n",
              "    <tr>\n",
              "      <th>2020-11-04</th>\n",
              "      <td>114.949997</td>\n",
              "      <td>115.881096</td>\n",
              "    </tr>\n",
              "    <tr>\n",
              "      <th>2020-11-05</th>\n",
              "      <td>119.029999</td>\n",
              "      <td>115.423447</td>\n",
              "    </tr>\n",
              "  </tbody>\n",
              "</table>\n",
              "<p>93 rows × 2 columns</p>\n",
              "</div>"
            ],
            "text/plain": [
              "                 Close  Predictions\n",
              "Date                               \n",
              "2020-06-26   88.407501    92.606186\n",
              "2020-06-29   90.445000    92.962097\n",
              "2020-06-30   91.199997    93.289360\n",
              "2020-07-01   91.027496    93.619308\n",
              "2020-07-02   91.027496    93.910126\n",
              "...                ...          ...\n",
              "2020-10-30  108.860001   118.756897\n",
              "2020-11-02  108.769997   117.846527\n",
              "2020-11-03  110.440002   116.806313\n",
              "2020-11-04  114.949997   115.881096\n",
              "2020-11-05  119.029999   115.423447\n",
              "\n",
              "[93 rows x 2 columns]"
            ]
          },
          "metadata": {
            "tags": []
          },
          "execution_count": 42
        }
      ]
    },
    {
      "cell_type": "code",
      "metadata": {
        "id": "hcx8zxvLaUgp",
        "outputId": "78a472c0-5dec-4612-8ba7-449a12c1b382",
        "colab": {
          "base_uri": "https://localhost:8080/"
        }
      },
      "source": [
        "#Get the quote\n",
        "apple_quote = web.DataReader('AAPL', data_source='yahoo', start='2019-11-07', end='2020-11-05')\n",
        "#Create a new dataFrame\n",
        "new_df = apple_quote.filter(['Close'])\n",
        "#Get the last 60 day closing price values and convert the dataFrame to an array\n",
        "last_60_days = new_df[-60:].values\n",
        "#Scale the data to be values between 0 to 1\n",
        "last_60_days_scaled = scaler.transform(last_60_days)\n",
        "#Create an empty list\n",
        "X_test = []\n",
        "#Append the past 60 days \n",
        "X_test.append(last_60_days_scaled)\n",
        "#Convert the X_test data set to a numpy array\n",
        "X_test = np.array(X_test)\n",
        "#Reshape the data\n",
        "X_test = np.reshape(X_test, (X_test.shape[0], X_test.shape[1], 1))\n",
        "#Get the predicted scald price\n",
        "pred_price = model.predict(X_test)\n",
        "#undo the scaling\n",
        "pred_price = scaler.inverse_transform(pred_price)\n",
        "print(pred_price)"
      ],
      "execution_count": null,
      "outputs": [
        {
          "output_type": "stream",
          "text": [
            "[[115.57661]]\n"
          ],
          "name": "stdout"
        }
      ]
    },
    {
      "cell_type": "code",
      "metadata": {
        "id": "6y8XalgRc7d6",
        "outputId": "23d31300-b1fe-4d6e-d056-9a7b57cadadb",
        "colab": {
          "base_uri": "https://localhost:8080/"
        }
      },
      "source": [
        "#Get the quote\n",
        "apple_quote2 = web.DataReader('AAPL', data_source='yahoo', start='2020-11-05', end='2020-11-05')\n",
        "print(apple_quote2['Close'])"
      ],
      "execution_count": null,
      "outputs": [
        {
          "output_type": "stream",
          "text": [
            "Date\n",
            "2020-11-05    119.029999\n",
            "Name: Close, dtype: float64\n"
          ],
          "name": "stdout"
        }
      ]
    }
  ]
}